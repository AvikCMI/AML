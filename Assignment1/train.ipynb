{
 "cells": [
  {
   "cell_type": "code",
   "execution_count": 2,
   "id": "583242e7",
   "metadata": {},
   "outputs": [],
   "source": [
    "# Python ≥3.5 is required\n",
    "import sys\n",
    "assert sys.version_info >= (3, 5)\n",
    "\n",
    "# Scikit-Learn ≥0.20 is required\n",
    "import sklearn\n",
    "assert sklearn.__version__ >= \"0.20\"\n",
    "\n",
    "# Common imports\n",
    "import numpy as np\n",
    "import os\n",
    "import pandas as pd\n",
    "# For visualization\n",
    "import matplotlib.pyplot as plt\n",
    "%matplotlib inline\n",
    "import seaborn as sns\n",
    "pd.options.display.max_rows = None\n",
    "pd.options.display.max_columns = None\n",
    "\n",
    "# to make this notebook's output stable across runs\n",
    "np.random.seed(42)\n",
    "\n",
    "# To plot pretty figures\n",
    "%matplotlib inline\n",
    "import matplotlib as mpl\n",
    "import matplotlib.pyplot as plt\n",
    "mpl.rc('axes', labelsize=14)\n",
    "mpl.rc('xtick', labelsize=12)\n",
    "mpl.rc('ytick', labelsize=12)\n",
    "\n",
    "# Where to save the figures\n",
    "PROJECT_ROOT_DIR = \".\"\n",
    "CHAPTER_ID = \"decision_trees\"\n",
    "IMAGES_PATH = os.path.join(PROJECT_ROOT_DIR, \"images\", CHAPTER_ID)\n",
    "os.makedirs(IMAGES_PATH, exist_ok=True)\n",
    "\n",
    "def save_fig(fig_id, tight_layout=True, fig_extension=\"png\", resolution=300):\n",
    "    path = os.path.join(IMAGES_PATH, fig_id + \".\" + fig_extension)\n",
    "    print(\"Saving figure\", fig_id)\n",
    "    if tight_layout:\n",
    "        plt.tight_layout()\n",
    "    plt.savefig(path, format=fig_extension, dpi=resolution)\n",
    "\n",
    "# Common imports\n",
    "import numpy as np\n",
    "import os"
   ]
  },
  {
   "cell_type": "markdown",
   "id": "b8ceda7d",
   "metadata": {},
   "source": [
    "### Loading the train, test, validation data:"
   ]
  },
  {
   "cell_type": "code",
   "execution_count": 3,
   "id": "dd7b8645",
   "metadata": {},
   "outputs": [],
   "source": [
    "train_data = pd.read_csv('train.csv')\n",
    "test_data = pd.read_csv('test.csv')\n",
    "valid_data = pd.read_csv('validation.csv')"
   ]
  },
  {
   "cell_type": "markdown",
   "id": "c7bfc104",
   "metadata": {},
   "source": [
    "### Postprocessing data for transforming message to vector"
   ]
  },
  {
   "cell_type": "code",
   "execution_count": 5,
   "id": "38fa47cb",
   "metadata": {},
   "outputs": [],
   "source": [
    "spam_words = {}\n",
    "ham_words = {}\n",
    "s_c = 0\n",
    "h_c = 0\n",
    "i = 0\n",
    "for line in list(train_data.message):\n",
    "    if list(train_data.label)[i] == \"spam\":\n",
    "        s_c += 1\n",
    "        s_w = line.split(\" \")\n",
    "        for word in s_w:\n",
    "            if word.lower() in spam_words.keys():\n",
    "                spam_words[word.lower()] += 1\n",
    "            else:\n",
    "                spam_words[word.lower()] = 1\n",
    "    else:\n",
    "        h_c += 1\n",
    "        h_w = line.split(\" \")\n",
    "        for word in h_w:\n",
    "            if word.lower() in ham_words.keys():\n",
    "                ham_words[word.lower()] += 1\n",
    "            else:\n",
    "                ham_words[word.lower()] = 1\n",
    "    i += 1"
   ]
  },
  {
   "cell_type": "code",
   "execution_count": 6,
   "id": "63a936d0",
   "metadata": {},
   "outputs": [
    {
     "name": "stdout",
     "output_type": "stream",
     "text": [
      "3107\n"
     ]
    }
   ],
   "source": [
    "print(len(spam_words.keys()))"
   ]
  },
  {
   "cell_type": "code",
   "execution_count": 7,
   "id": "f6936292",
   "metadata": {},
   "outputs": [
    {
     "name": "stdout",
     "output_type": "stream",
     "text": [
      "3502 524\n"
     ]
    }
   ],
   "source": [
    "print(h_c,s_c)"
   ]
  },
  {
   "cell_type": "code",
   "execution_count": 8,
   "id": "8750a5f4",
   "metadata": {},
   "outputs": [
    {
     "data": {
      "text/plain": [
       "30"
      ]
     },
     "execution_count": 8,
     "metadata": {},
     "output_type": "execute_result"
    }
   ],
   "source": [
    "ham_words[\"week\"]"
   ]
  },
  {
   "cell_type": "code",
   "execution_count": 9,
   "id": "42fc7fe3",
   "metadata": {},
   "outputs": [
    {
     "data": {
      "text/plain": [
       "'2/2'"
      ]
     },
     "execution_count": 9,
     "metadata": {},
     "output_type": "execute_result"
    }
   ],
   "source": [
    "spam_words_sorted = sorted(spam_words.items(), key=lambda x:x[1])\n",
    "spam_words_sorted[0][0]"
   ]
  },
  {
   "cell_type": "code",
   "execution_count": 12,
   "id": "90d22234",
   "metadata": {},
   "outputs": [
    {
     "name": "stdout",
     "output_type": "stream",
     "text": [
      "['secret', 'thinks', 'shop', 'weeks', 'summer', '2003', '800', 'discount', 'cs', 'collection', 'sunshine', 'txting', 'txts', 'rates', 'wanna', 'good', 'b', 'custcare', 'within', 'hi', '10p', 'day', 'representative', 'digital', 'sms.', 'may', 'n', 'why', 'date', '!', 'pic', 'ltd,', '0800', 'was', 'my', 'cd', 'name', 'charity', 'â£200', 'flag', 'mobile!', 'rental', 'phones', 'eg', 'urgent', 'â£800', 'private!', 'statement', 'points.', 'identifier', 'code:', 'offers', 'complimentary', 'quiz', 'national', 'then', 'wk', 'each', \"don't\", 'yes', 'x', 'congratulations', 'end', 'important', 'no.', 'unlimited', 'charged', 'camcorder', 'mobiles', 'love', 'they', 'what', 'either', 'ntt', 'when', 'ts&cs', 'last', 'expires', 'code', 't', 'rate', 'texts', 'dont', 'like', 'anytime', 'thanks', 'sexy', 'operator', '87066', 'now.', 'stop.', 'free.', '100', 'worth', 'voucher', 'next', '18+', 'week!', 'hot', 'gift', 'tried', 'services', 'sms', 'attempt', '08000930705', 'txt:', '+', 'pobox', 'cost', 'poly', 'dating', 'half', 'price', 'collection.', 'sae', 'â£100', 'take', 'apply.', 'account', 'player', 'double', '08000839402', 'am', 'xmas', 'â£250', 'apply', '.', 'prize.', 'prize!', 'delivery', 'up', '2nd', 'min', 'final', 'music', 'offer', 'auction', 'someone', 'mobileupd8', 'â£500', 'trying', 'â£2000', '12hrs', 'top', 'time', 'join', '750', 'waiting', 'network', 'opt', 'bonus', 'no:', '3', 'u.', 'todays', 'line.', 'dear', 'do', 'vouchers', 'c', 'msg', 'back', '86688', 'unsubscribe', 'had', 'colour', 'â£1.50', 't&cs', 'â£5000', 'await', 'land', 'collect', 'valid', 'wkly', 'mob', 'tell', 'selected', 'weekly', 'not', 'play', '150p', 'update', 'free!', 'you!', 'line', 'guaranteed.', 'any', '8007', 'me', 'landline.', 'mins', '18', 'tones', 'want', 'find', '16+', 'it', 'orange', '4*', 'an', 'live', 'know', 'number', '500', 'so', 'message', 'video', 'ringtone', 'all', '1', 'at', 'chance', 'more', 'week', '150ppm', 'has', 'shows', 'go', 'receive', 'guaranteed', 'as', 'camera', 'r', 'no', 'â£1000', 'can', '16', 'if', '1st', 'entry', 'that', 'holiday', 'draw', 'po', '', 'will', 'box', 'customer', 'every', 'phone', 'by', 'been', 'who', 'latest', 'urgent!', 'service', 'be', 'i', 'chat', 'awarded', 'tone', 'per', 'please', 'prize', 'we', 'out', '-', 'contact', 'cash', 'send', 'win', 'won', 'new', 'only', 'in', 'nokia', 'now!', 'our', 'just', 'this', 'are', 'get', '4', 'stop', 'now', 'claim', 'with', 'of', 'reply', 'mobile', '&', 'u', 'text', 'from', 'and', 'have', 'is', 'txt', 'ur', 'on', '2', 'free', 'or', 'the', 'for', 'you', 'your', 'call', 'a', 'to']\n"
     ]
    }
   ],
   "source": [
    "top_300_spam_words = list(spam_words_sorted[i][0] for i in range(-300,0))\n",
    "print(top_300_spam_words)"
   ]
  },
  {
   "cell_type": "code",
   "execution_count": 13,
   "id": "8e291a8e",
   "metadata": {},
   "outputs": [
    {
     "data": {
      "text/plain": [
       "\"'rencontre'\""
      ]
     },
     "execution_count": 13,
     "metadata": {},
     "output_type": "execute_result"
    }
   ],
   "source": [
    "ham_words_sorted = sorted(ham_words.items(), key=lambda x:x[1])\n",
    "ham_words_sorted[0][0]"
   ]
  },
  {
   "cell_type": "code",
   "execution_count": 14,
   "id": "e0e657b7",
   "metadata": {},
   "outputs": [
    {
     "name": "stdout",
     "output_type": "stream",
     "text": [
      "['thk', 'leave', 'which', 'thing', 'many', 'down', 'other', '!', 'sure', 'went', \"that's\", 'free', 'wait', 'b', 'anything', 'even', 'it.', 'us', 'wan', 'sorry,', 'c', 'dear', 'dun', 'tomorrow', 'sent', 'lor...', 'gud', 'lol', 'buy', 'cant', 'around', 'let', 'yeah', 'our', 'were', 'told', 'last', 'very', \"i've\", 'ãœ', 'work', ':)', 'why', 'who', 'gonna', 'phone', 'today', 'keep', 'wat', 'feel', 'right', 'also', 'text', 'them', 'new', 'his', 'great', 'doing', 'oh', 'im', 'happy', 'you.', 'more', 'please', 'too', 'here', 'pick', 'now.', 'hi', 'really', 'meet', 'miss', 'said', 'lor.', 'night', 'well', 'would', 'e', 'should', 'pls', 'da', 'after', 'cos', 'hey', 'much', 'sorry', 'way', \"it's\", 'ask', 'me.', 'been', 'had', 'an', 'has', 'make', '&amp;', 'where', 'give', 'say', 'd', 'her', 'hope', 'him', 'any', 'back', 'ã¼', 'later', 'take', 'home', 'only', 'day', 'they', 'some', 'tell', 'there', 'think', 'she', 'send', 'did', 'dont', 'need', 'see', 'r', 'as', '...', 'from', 'n', 'by', \"don't\", 'one', 'ok', 'want', 'time', 'about', '4', 'now', 'love', 'going', 'still', 'out', \"i'll\", '?', 'good', 'he', 'its', 'am', 'then', 'was', 'know', 'call', '.', 'what', 'this', 'come', 'or', 'all', 'no', 'ur', 'got', 'like', 'go', 'how', 'up', 'with', '&lt;#&gt;', 'when', '2', 'just', 'get', 'we', 'be', 'if', 'do', 'will', \"i'm\", 'can', 'on', 'at', 'not', 'so', 'are', 'your', 'but', 'it', 'that', 'have', 'of', 'for', '', 'me', 'my', 'is', 'in', 'and', 'u', 'a', 'the', 'to', 'you', 'i']\n"
     ]
    }
   ],
   "source": [
    "top_200_ham_words = list(ham_words_sorted[i][0] for i in range(-200,0))\n",
    "print(top_200_ham_words)"
   ]
  },
  {
   "cell_type": "code",
   "execution_count": 15,
   "id": "0f73a645",
   "metadata": {},
   "outputs": [
    {
     "name": "stdout",
     "output_type": "stream",
     "text": [
      "['secret', 'thinks', 'shop', 'weeks', 'summer', '2003', '800', 'discount', 'cs', 'collection', 'sunshine', 'txting', 'txts', 'rates', 'wanna', 'custcare', 'within', '10p', 'representative', 'digital', 'sms.', 'may', 'date', 'pic', 'ltd,', '0800', 'cd', 'name', 'charity', 'â£200', 'flag', 'mobile!', 'rental', 'phones', 'eg', 'urgent', 'â£800', 'private!', 'statement', 'points.', 'identifier', 'code:', 'offers', 'complimentary', 'quiz', 'national', 'wk', 'each', 'yes', 'x', 'congratulations', 'end', 'important', 'no.', 'unlimited', 'charged', 'camcorder', 'mobiles', 'either', 'ntt', 'ts&cs', 'expires', 'code', 't', 'rate', 'texts', 'anytime', 'thanks', 'sexy', 'operator', '87066', 'stop.', 'free.', '100', 'worth', 'voucher', 'next', '18+', 'week!', 'hot', 'gift', 'tried', 'services', 'sms', 'attempt', '08000930705', 'txt:', '+', 'pobox', 'cost', 'poly', 'dating', 'half', 'price', 'collection.', 'sae', 'â£100', 'apply.', 'account', 'player', 'double', '08000839402', 'xmas', 'â£250', 'apply', 'prize.', 'prize!', 'delivery', '2nd', 'min', 'final', 'music', 'offer', 'auction', 'someone', 'mobileupd8', 'â£500', 'trying', 'â£2000', '12hrs', 'top', 'join', '750', 'waiting', 'network', 'opt', 'bonus', 'no:', '3', 'u.', 'todays', 'line.', 'vouchers', 'msg', '86688', 'unsubscribe', 'colour', 'â£1.50', 't&cs', 'â£5000', 'await', 'land', 'collect', 'valid', 'wkly', 'mob', 'selected', 'weekly', 'play', '150p', 'update', 'free!', 'you!', 'line', 'guaranteed.', '8007', 'landline.', 'mins', '18', 'tones', 'find', '16+', 'orange', '4*', 'live', 'number', '500', 'message', 'video', 'ringtone', '1', 'chance', 'week', '150ppm', 'shows', 'receive', 'guaranteed', 'camera', 'â£1000', '16', '1st', 'entry', 'holiday', 'draw', 'po', 'box', 'customer', 'every', 'latest', 'urgent!', 'service', 'chat', 'awarded', 'tone', 'per', 'prize', '-', 'contact', 'cash', 'win', 'won', 'nokia', 'now!', 'stop', 'claim', 'reply', 'mobile', '&', 'txt'] 209\n"
     ]
    }
   ],
   "source": [
    "true_spam_words = []\n",
    "for i in top_300_spam_words:\n",
    "    if i in ham_words.keys():\n",
    "        if ham_words[i] <= h_c/100: #i.e., these spam words appeared very fewer times in ham messages.\n",
    "            true_spam_words.append(i)\n",
    "    else:\n",
    "        true_spam_words.append(i)\n",
    "print(true_spam_words,len(true_spam_words))"
   ]
  },
  {
   "cell_type": "markdown",
   "id": "b2fc7bf9",
   "metadata": {},
   "source": [
    "So, 91 words were some common words in English which appear frequently in any kind of messages."
   ]
  },
  {
   "cell_type": "code",
   "execution_count": 16,
   "id": "b4538ae6",
   "metadata": {},
   "outputs": [
    {
     "name": "stdout",
     "output_type": "stream",
     "text": [
      "{'secret': 0, 'thinks': 1, 'shop': 2, 'weeks': 3, 'summer': 4, '2003': 5, '800': 6, 'discount': 7, 'cs': 8, 'collection': 9, 'sunshine': 10, 'txting': 11, 'txts': 12, 'rates': 13, 'wanna': 14, 'custcare': 15, 'within': 16, '10p': 17, 'representative': 18, 'digital': 19, 'sms.': 20, 'may': 21, 'date': 22, 'pic': 23, 'ltd,': 24, '0800': 25, 'cd': 26, 'name': 27, 'charity': 28, 'â£200': 29, 'flag': 30, 'mobile!': 31, 'rental': 32, 'phones': 33, 'eg': 34, 'urgent': 35, 'â£800': 36, 'private!': 37, 'statement': 38, 'points.': 39, 'identifier': 40, 'code:': 41, 'offers': 42, 'complimentary': 43, 'quiz': 44, 'national': 45, 'wk': 46, 'each': 47, 'yes': 48, 'x': 49, 'congratulations': 50, 'end': 51, 'important': 52, 'no.': 53, 'unlimited': 54, 'charged': 55, 'camcorder': 56, 'mobiles': 57, 'either': 58, 'ntt': 59, 'ts&cs': 60, 'expires': 61, 'code': 62, 't': 63, 'rate': 64, 'texts': 65, 'anytime': 66, 'thanks': 67, 'sexy': 68, 'operator': 69, '87066': 70, 'stop.': 71, 'free.': 72, '100': 73, 'worth': 74, 'voucher': 75, 'next': 76, '18+': 77, 'week!': 78, 'hot': 79, 'gift': 80, 'tried': 81, 'services': 82, 'sms': 83, 'attempt': 84, '08000930705': 85, 'txt:': 86, '+': 87, 'pobox': 88, 'cost': 89, 'poly': 90, 'dating': 91, 'half': 92, 'price': 93, 'collection.': 94, 'sae': 95, 'â£100': 96, 'apply.': 97, 'account': 98, 'player': 99, 'double': 100, '08000839402': 101, 'xmas': 102, 'â£250': 103, 'apply': 104, 'prize.': 105, 'prize!': 106, 'delivery': 107, '2nd': 108, 'min': 109, 'final': 110, 'music': 111, 'offer': 112, 'auction': 113, 'someone': 114, 'mobileupd8': 115, 'â£500': 116, 'trying': 117, 'â£2000': 118, '12hrs': 119, 'top': 120, 'join': 121, '750': 122, 'waiting': 123, 'network': 124, 'opt': 125, 'bonus': 126, 'no:': 127, '3': 128, 'u.': 129, 'todays': 130, 'line.': 131, 'vouchers': 132, 'msg': 133, '86688': 134, 'unsubscribe': 135, 'colour': 136, 'â£1.50': 137, 't&cs': 138, 'â£5000': 139, 'await': 140, 'land': 141, 'collect': 142, 'valid': 143, 'wkly': 144, 'mob': 145, 'selected': 146, 'weekly': 147, 'play': 148, '150p': 149, 'update': 150, 'free!': 151, 'you!': 152, 'line': 153, 'guaranteed.': 154, '8007': 155, 'landline.': 156, 'mins': 157, '18': 158, 'tones': 159, 'find': 160, '16+': 161, 'orange': 162, '4*': 163, 'live': 164, 'number': 165, '500': 166, 'message': 167, 'video': 168, 'ringtone': 169, '1': 170, 'chance': 171, 'week': 172, '150ppm': 173, 'shows': 174, 'receive': 175, 'guaranteed': 176, 'camera': 177, 'â£1000': 178, '16': 179, '1st': 180, 'entry': 181, 'holiday': 182, 'draw': 183, 'po': 184, 'box': 185, 'customer': 186, 'every': 187, 'latest': 188, 'urgent!': 189, 'service': 190, 'chat': 191, 'awarded': 192, 'tone': 193, 'per': 194, 'prize': 195, '-': 196, 'contact': 197, 'cash': 198, 'win': 199, 'won': 200, 'nokia': 201, 'now!': 202, 'stop': 203, 'claim': 204, 'reply': 205, 'mobile': 206, '&': 207, 'txt': 208}\n"
     ]
    }
   ],
   "source": [
    "spam_dict = {spam_w: true_spam_words.index(spam_w) for spam_w in true_spam_words}\n",
    "print(spam_dict)"
   ]
  },
  {
   "cell_type": "markdown",
   "id": "ed0ba0e3",
   "metadata": {},
   "source": [
    "### Message to vector transformation:"
   ]
  },
  {
   "cell_type": "markdown",
   "id": "b82b5e0a",
   "metadata": {},
   "source": [
    "Defining function to convert every messages to some vectors to make our training dataset to be fitted to ML models"
   ]
  },
  {
   "cell_type": "code",
   "execution_count": 21,
   "id": "d53444c8",
   "metadata": {},
   "outputs": [],
   "source": [
    "def messtovec(message):\n",
    "    data = [0 for i in range(210)] #for 209 spam words, length of message\n",
    "    content = message.split(\" \")\n",
    "    for i in content:\n",
    "        if i.lower() in spam_dict.keys():\n",
    "            data[spam_dict[i.lower()]] = 1\n",
    "    data[-1] = len(content)\n",
    "    return data"
   ]
  },
  {
   "cell_type": "code",
   "execution_count": 28,
   "id": "81b1a832",
   "metadata": {},
   "outputs": [],
   "source": [
    "def data_prep(data):\n",
    "    column_names = [i for i in true_spam_words] + [\"length\"]\n",
    "    Full_data = []\n",
    "    i = 0\n",
    "    index_names = []\n",
    "    for line in list(data.message):\n",
    "        i += 1\n",
    "        index_names.append(i)\n",
    "        d = messtovec(line)\n",
    "        Full_data.append(d)\n",
    "    return Full_data,index_names,column_names\n",
    "\n",
    "tr_d,tr_i,tr_c = data_prep(train_data)\n",
    "train_X = pd.DataFrame(data = tr_d, \n",
    "                  index = tr_i, \n",
    "                  columns = tr_c)\n",
    "\n",
    "va_d,va_i,va_c = data_prep(valid_data)\n",
    "valid_X = pd.DataFrame(data = va_d, \n",
    "                  index = va_i, \n",
    "                  columns = va_c)\n",
    "\n",
    "te_d,te_i,te_c = data_prep(test_data)\n",
    "test_X = pd.DataFrame(data = te_d, \n",
    "                  index = te_i, \n",
    "                  columns = te_c)"
   ]
  },
  {
   "cell_type": "code",
   "execution_count": 43,
   "id": "bce83322",
   "metadata": {},
   "outputs": [],
   "source": [
    "train_Y = pd.DataFrame(data = list(train_data.label), \n",
    "                  index = [i+1 for i in range(len(list(train_data.label)))],\n",
    "                  columns = [\"label\"])\n",
    "\n",
    "test_Y = pd.DataFrame(data = list(test_data.label), \n",
    "                  index = [i+1 for i in range(len(list(test_data.label)))],\n",
    "                  columns = [\"label\"])\n",
    "\n",
    "valid_Y = pd.DataFrame(data = list(valid_data.label), \n",
    "                  index = [i+1 for i in range(len(list(valid_data.label)))],\n",
    "                  columns = [\"label\"])"
   ]
  },
  {
   "cell_type": "code",
   "execution_count": 45,
   "id": "727d5d56",
   "metadata": {},
   "outputs": [],
   "source": [
    "train_Y['label'] = train_Y['label'].replace(['spam'], 1)\n",
    "train_Y['label'] = train_Y['label'].replace(['ham'], 0)\n",
    "\n",
    "test_Y['label'] = test_Y['label'].replace(['spam'], 1)\n",
    "test_Y['label'] = test_Y['label'].replace(['ham'], 0)\n",
    "\n",
    "valid_Y['label'] = valid_Y['label'].replace(['spam'], 1)\n",
    "valid_Y['label'] = valid_Y['label'].replace(['ham'], 0)"
   ]
  },
  {
   "cell_type": "code",
   "execution_count": 46,
   "id": "631e153b",
   "metadata": {},
   "outputs": [
    {
     "data": {
      "image/png": "[encoded data removed]",
      "text/plain": [
       "<Figure size 720x576 with 1 Axes>"
      ]
     },
     "metadata": {},
     "output_type": "display_data"
    }
   ],
   "source": [
    "#Pie-Chart of output variable\n",
    "labels = 'spam', 'ham'\n",
    "sizes = [train_Y.label[train_Y['label']==1].count(), train_Y.label[train_Y['label']==0].count()]\n",
    "explode = (0, 0.1)\n",
    "fig1, ax1 = plt.subplots(figsize=(10, 8))\n",
    "ax1.pie(sizes,explode=explode, labels=labels, autopct='%1.1f%%',\n",
    "        shadow=True, startangle=90,colors =[\"tomato\",\"turquoise\"] )\n",
    "ax1.axis('equal')\n",
    "plt.title(\"Proportion of the spam & ham messages\", size = 20)\n",
    "plt.show()"
   ]
  },
  {
   "cell_type": "markdown",
   "id": "fe65fb65",
   "metadata": {},
   "source": [
    "So, this is a very unbalanced dataset"
   ]
  },
  {
   "cell_type": "markdown",
   "id": "cff69422",
   "metadata": {},
   "source": [
    "# Random Forest Classifier:"
   ]
  },
  {
   "cell_type": "code",
   "execution_count": 65,
   "id": "2cb2b520",
   "metadata": {},
   "outputs": [],
   "source": [
    "from sklearn.ensemble import RandomForestClassifier\n",
    "#for computing Mean Absolute Error\n",
    "from sklearn.metrics import mean_absolute_error\n",
    "def score_dataset(X_train, X_valid, y_train, y_valid,i,n):\n",
    "    model = RandomForestClassifier(n_estimators = n, max_depth = i, random_state = 42, class_weight = {0:13,1:87})\n",
    "    model.fit(X_train, y_train)\n",
    "    preds = model.predict(X_valid)\n",
    "    return mean_absolute_error(y_valid, preds)"
   ]
  },
  {
   "cell_type": "code",
   "execution_count": 66,
   "id": "6f3ee727",
   "metadata": {},
   "outputs": [
    {
     "name": "stdout",
     "output_type": "stream",
     "text": [
      "MAE: 0.06751054852320675 max_depth = 1\n",
      "MAE: 0.07313642756680731 max_depth = 2\n",
      "MAE: 0.06469760900140648 max_depth = 3\n",
      "MAE: 0.06891701828410689 max_depth = 4\n",
      "MAE: 0.06469760900140648 max_depth = 5\n",
      "MAE: 0.06188466947960619 max_depth = 6\n",
      "MAE: 0.06329113924050633 max_depth = 7\n",
      "MAE: 0.05907172995780591 max_depth = 8\n",
      "MAE: 0.06047819971870605 max_depth = 9\n",
      "MAE: 0.05485232067510549 max_depth = 10\n",
      "MAE: 0.052039381153305204 max_depth = 11\n",
      "MAE: 0.05485232067510549 max_depth = 12\n",
      "MAE: 0.05485232067510549 max_depth = 13\n",
      "MAE: 0.052039381153305204 max_depth = 14\n",
      "MAE: 0.053445850914205346 max_depth = 15\n",
      "MAE: 0.04922644163150492 max_depth = 16\n",
      "MAE: 0.04781997187060478 max_depth = 17\n",
      "MAE: 0.046413502109704644 max_depth = 18\n",
      "MAE: 0.04922644163150492 max_depth = 19\n",
      "MAE: 0.04781997187060478 max_depth = 20\n",
      "MAE: 0.04922644163150492 max_depth = 21\n",
      "MAE: 0.046413502109704644 max_depth = 22\n",
      "MAE: 0.040787623066104076 max_depth = 23\n",
      "MAE: 0.040787623066104076 max_depth = 24\n",
      "MAE: 0.04219409282700422 max_depth = 25\n",
      "MAE: 0.04219409282700422 max_depth = 26\n",
      "MAE: 0.040787623066104076 max_depth = 27\n",
      "MAE: 0.03938115330520394 max_depth = 28\n",
      "MAE: 0.0379746835443038 max_depth = 29\n"
     ]
    }
   ],
   "source": [
    "MAE = 1\n",
    "for i in range(1,30):\n",
    "    print(\"MAE:\",score_dataset(train_X, valid_X, np.ravel(train_Y), np.ravel(valid_Y),i,100),\"max_depth =\",i)\n",
    "    temp = score_dataset(train_X, valid_X, np.ravel(train_Y), np.ravel(valid_Y),i,100) \n",
    "    if MAE > temp:\n",
    "        MAE = temp\n",
    "        max_depth = i"
   ]
  },
  {
   "cell_type": "code",
   "execution_count": 67,
   "id": "d135c96f",
   "metadata": {},
   "outputs": [
    {
     "data": {
      "text/plain": [
       "RandomForestClassifier(class_weight={0: 13, 1: 87}, max_depth=29,\n",
       "                       random_state=42)"
      ]
     },
     "execution_count": 67,
     "metadata": {},
     "output_type": "execute_result"
    }
   ],
   "source": [
    "rf = RandomForestClassifier(n_estimators = 100, random_state = 42, max_depth = max_depth, class_weight = {0:13,1:87})\n",
    "rf.fit(train_X,np.ravel(train_Y))"
   ]
  },
  {
   "cell_type": "code",
   "execution_count": 68,
   "id": "9a33f312",
   "metadata": {},
   "outputs": [
    {
     "name": "stdout",
     "output_type": "stream",
     "text": [
      "The memory_profiler extension is already loaded. To reload it, use:\n",
      "  %reload_ext memory_profiler\n",
      "peak memory: 183.28 MiB, increment: 1.46 MiB\n"
     ]
    }
   ],
   "source": [
    "#memory used in fitting the Train data to the model\n",
    "%load_ext memory_profiler\n",
    "from memory_profiler import profile\n",
    "\n",
    "%memit rf.fit(train_X,np.ravel(train_Y))"
   ]
  },
  {
   "cell_type": "code",
   "execution_count": 69,
   "id": "35fca702",
   "metadata": {},
   "outputs": [],
   "source": [
    "pred_Y = rf.predict(test_X)"
   ]
  },
  {
   "cell_type": "code",
   "execution_count": 70,
   "id": "cbb9762d",
   "metadata": {},
   "outputs": [
    {
     "data": {
      "image/png": "[encoded data removed]",
      "text/plain": [
       "<Figure size 432x288 with 2 Axes>"
      ]
     },
     "metadata": {
      "needs_background": "light"
     },
     "output_type": "display_data"
    }
   ],
   "source": [
    "#confusion matrix for Decision Tree\n",
    "\n",
    "from sklearn import metrics\n",
    "from sklearn.metrics import accuracy_score\n",
    "from sklearn.metrics import confusion_matrix\n",
    "from sklearn.metrics import classification_report\n",
    "\n",
    "f = open(\"random_forest.txt\", \"w\")\n",
    "\n",
    "accuracy_score = metrics.accuracy_score(test_Y, pred_Y)\n",
    "\n",
    "con_matrix = confusion_matrix(test_Y,pred_Y, labels=[0,1])\n",
    "\n",
    "report_matrix = classification_report(test_Y, pred_Y,labels=[0,1])\n",
    "\n",
    "L = [str(accuracy_score),\"\\n\\n\",str(con_matrix),'\\n\\n', str(report_matrix)] \n",
    "f.writelines(L) \n",
    "f.close()\n",
    "\n",
    "from sklearn.metrics import ConfusionMatrixDisplay\n",
    "fig = plt.figure()\n",
    "Disp =ConfusionMatrixDisplay(con_matrix,display_labels=['ham','spam'])\n",
    "Disp.plot()\n",
    "plt.savefig(\"random_forest_confusion_matrix\")\n",
    "plt.close(fig)"
   ]
  },
  {
   "cell_type": "code",
   "execution_count": 71,
   "id": "94b36097",
   "metadata": {},
   "outputs": [
    {
     "name": "stdout",
     "output_type": "stream",
     "text": [
      "              precision    recall  f1-score   support\n",
      "\n",
      "           0       0.96      0.99      0.98       719\n",
      "           1       0.94      0.78      0.85       118\n",
      "\n",
      "    accuracy                           0.96       837\n",
      "   macro avg       0.95      0.89      0.91       837\n",
      "weighted avg       0.96      0.96      0.96       837\n",
      "\n"
     ]
    }
   ],
   "source": [
    "print(report_matrix)"
   ]
  },
  {
   "cell_type": "markdown",
   "id": "25c51c8e",
   "metadata": {},
   "source": [
    "# Naive Bayes Classifier:"
   ]
  },
  {
   "cell_type": "code",
   "execution_count": 94,
   "id": "16f64284",
   "metadata": {},
   "outputs": [],
   "source": [
    "# train a Gaussian Naive Bayes classifier on the training set\n",
    "from sklearn.metrics import mean_absolute_error\n",
    "def score_dataset(X_train, X_valid, y_train, y_valid, nb):\n",
    "    model = nb\n",
    "    model.fit(X_train, np.ravel(y_train))\n",
    "    preds = model.predict(X_valid)\n",
    "    return mean_absolute_error(y_valid, preds)"
   ]
  },
  {
   "cell_type": "code",
   "execution_count": 95,
   "id": "20585c1d",
   "metadata": {},
   "outputs": [
    {
     "name": "stdout",
     "output_type": "stream",
     "text": [
      "MAE: 0.05485232067510549 naive bayes' model = GaussianNB()\n",
      "MAE: 0.053445850914205346 naive bayes' model = ComplementNB()\n",
      "MAE: 0.04922644163150492 naive bayes' model = MultinomialNB()\n",
      "MAE: 0.04360056258790436 naive bayes' model = BernoulliNB()\n",
      "MAE: 0.04219409282700422 naive bayes' model = CategoricalNB()\n"
     ]
    }
   ],
   "source": [
    "from sklearn.naive_bayes import GaussianNB\n",
    "from sklearn.naive_bayes import ComplementNB\n",
    "from sklearn.naive_bayes import MultinomialNB\n",
    "from sklearn.naive_bayes import BernoulliNB\n",
    "from sklearn.naive_bayes import CategoricalNB\n",
    "# instantiate the model\n",
    "gnb = GaussianNB()\n",
    "conb = ComplementNB()\n",
    "mnb = MultinomialNB()\n",
    "bnb = BernoulliNB()\n",
    "canb = CategoricalNB()\n",
    "nb = [gnb, conb, mnb, bnb, canb]\n",
    "\n",
    "MAE = 1\n",
    "for i in nb:\n",
    "    print(\"MAE:\",score_dataset(train_X, valid_X, np.ravel(train_Y), np.ravel(valid_Y), i),\"naive bayes' model =\",i)\n",
    "    temp = score_dataset(train_X, valid_X, np.ravel(train_Y), np.ravel(valid_Y), i) \n",
    "    if MAE > temp:\n",
    "        MAE = temp\n",
    "        nb_model = i"
   ]
  },
  {
   "cell_type": "code",
   "execution_count": 96,
   "id": "54c53419",
   "metadata": {},
   "outputs": [
    {
     "data": {
      "text/plain": [
       "CategoricalNB()"
      ]
     },
     "execution_count": 96,
     "metadata": {},
     "output_type": "execute_result"
    }
   ],
   "source": [
    "# fit the model\n",
    "nb_model.fit(train_X, np.ravel(train_Y))"
   ]
  },
  {
   "cell_type": "code",
   "execution_count": 97,
   "id": "4ed752f3",
   "metadata": {},
   "outputs": [
    {
     "name": "stdout",
     "output_type": "stream",
     "text": [
      "The memory_profiler extension is already loaded. To reload it, use:\n",
      "  %reload_ext memory_profiler\n",
      "peak memory: 179.47 MiB, increment: 11.30 MiB\n"
     ]
    }
   ],
   "source": [
    "#memory used in fitting the Train data to the model\n",
    "%load_ext memory_profiler\n",
    "from memory_profiler import profile\n",
    "%memit gnb.fit(train_X,np.ravel(train_Y))"
   ]
  },
  {
   "cell_type": "code",
   "execution_count": 98,
   "id": "c26abaf0",
   "metadata": {},
   "outputs": [],
   "source": [
    "pred_Y = gnb.predict(test_X)"
   ]
  },
  {
   "cell_type": "code",
   "execution_count": 99,
   "id": "bdad9bbe",
   "metadata": {},
   "outputs": [
    {
     "data": {
      "image/png": "[encoded data removed]",
      "text/plain": [
       "<Figure size 432x288 with 2 Axes>"
      ]
     },
     "metadata": {
      "needs_background": "light"
     },
     "output_type": "display_data"
    }
   ],
   "source": [
    "#confusion matrix for Decision Tree\n",
    "\n",
    "from sklearn import metrics\n",
    "from sklearn.metrics import accuracy_score\n",
    "from sklearn.metrics import confusion_matrix\n",
    "from sklearn.metrics import classification_report\n",
    "\n",
    "f = open(\"Bayes'_tree.txt\", \"w\")\n",
    "\n",
    "accuracy_score = metrics.accuracy_score(test_Y, pred_Y)\n",
    "\n",
    "con_matrix = confusion_matrix(test_Y,pred_Y, labels=[0,1])\n",
    "\n",
    "report_matrix = classification_report(test_Y, pred_Y,labels=[0,1])\n",
    "\n",
    "L = [str(accuracy_score),\"\\n\\n\",str(con_matrix),'\\n\\n', str(report_matrix)] \n",
    "f.writelines(L) \n",
    "f.close()\n",
    "\n",
    "from sklearn.metrics import ConfusionMatrixDisplay\n",
    "\n",
    "fig = plt.figure()\n",
    "Disp =ConfusionMatrixDisplay(con_matrix,display_labels=['ham','spam'])\n",
    "Disp.plot()\n",
    "plt.savefig(\"Bayes'_confusion_matrix\")\n",
    "plt.close(fig)"
   ]
  },
  {
   "cell_type": "code",
   "execution_count": 100,
   "id": "ec81b8c8",
   "metadata": {},
   "outputs": [
    {
     "name": "stdout",
     "output_type": "stream",
     "text": [
      "              precision    recall  f1-score   support\n",
      "\n",
      "           0       0.97      0.98      0.97       719\n",
      "           1       0.86      0.81      0.83       118\n",
      "\n",
      "    accuracy                           0.95       837\n",
      "   macro avg       0.91      0.90      0.90       837\n",
      "weighted avg       0.95      0.95      0.95       837\n",
      "\n"
     ]
    }
   ],
   "source": [
    "print(report_matrix)"
   ]
  },
  {
   "cell_type": "markdown",
   "id": "5cadf9fc",
   "metadata": {},
   "source": [
    "# SVM Classifier:"
   ]
  },
  {
   "cell_type": "code",
   "execution_count": 101,
   "id": "d68a8505",
   "metadata": {},
   "outputs": [],
   "source": [
    "# train a Support Vector Machine classifier on the training set\n",
    "from sklearn.svm import SVC \n",
    "from sklearn.metrics import mean_absolute_error\n",
    "def score_dataset(X_train, X_valid, y_train, y_valid, k):\n",
    "    model = SVC(kernel=k) \n",
    "    model.fit(X_train, np.ravel(y_train))\n",
    "    preds = model.predict(X_valid)\n",
    "    return mean_absolute_error(y_valid, preds)"
   ]
  },
  {
   "cell_type": "code",
   "execution_count": 102,
   "id": "e8e3842d",
   "metadata": {},
   "outputs": [
    {
     "name": "stdout",
     "output_type": "stream",
     "text": [
      "MAE: 0.04219409282700422 kernel = linear\n",
      "MAE: 0.0759493670886076 kernel = poly\n",
      "MAE: 0.11954992967651196 kernel = rbf\n",
      "MAE: 0.25035161744022505 kernel = sigmoid\n"
     ]
    }
   ],
   "source": [
    "MAE = 1\n",
    "Kernels = ['linear', 'poly', 'rbf', 'sigmoid']\n",
    "for i in Kernels:\n",
    "    print(\"MAE:\",score_dataset(train_X, valid_X, np.ravel(train_Y), np.ravel(valid_Y),i),\"kernel =\",i)\n",
    "    temp = score_dataset(train_X, valid_X, np.ravel(train_Y), np.ravel(valid_Y),i) \n",
    "    if MAE > temp:\n",
    "        MAE = temp\n",
    "        kernel = i"
   ]
  },
  {
   "cell_type": "code",
   "execution_count": 103,
   "id": "174b45fb",
   "metadata": {},
   "outputs": [
    {
     "data": {
      "text/plain": [
       "SVC(kernel='linear')"
      ]
     },
     "execution_count": 103,
     "metadata": {},
     "output_type": "execute_result"
    }
   ],
   "source": [
    "# instantiate the model\n",
    "clf = SVC(kernel=kernel) \n",
    "# fit the model\n",
    "clf.fit(train_X, np.ravel(train_Y))"
   ]
  },
  {
   "cell_type": "code",
   "execution_count": 104,
   "id": "d0467b39",
   "metadata": {},
   "outputs": [
    {
     "name": "stdout",
     "output_type": "stream",
     "text": [
      "The memory_profiler extension is already loaded. To reload it, use:\n",
      "  %reload_ext memory_profiler\n",
      "peak memory: 170.63 MiB, increment: 12.46 MiB\n"
     ]
    }
   ],
   "source": [
    "#memory used in fitting the Train data to the model\n",
    "%load_ext memory_profiler\n",
    "from memory_profiler import profile\n",
    "%memit clf.fit(train_X,np.ravel(train_Y))"
   ]
  },
  {
   "cell_type": "code",
   "execution_count": 105,
   "id": "e79308f3",
   "metadata": {},
   "outputs": [],
   "source": [
    "pred_Y = clf.predict(test_X)"
   ]
  },
  {
   "cell_type": "code",
   "execution_count": 106,
   "id": "d39c4a3f",
   "metadata": {},
   "outputs": [
    {
     "data": {
      "image/png": "[encoded data removed]",
      "text/plain": [
       "<Figure size 432x288 with 2 Axes>"
      ]
     },
     "metadata": {
      "needs_background": "light"
     },
     "output_type": "display_data"
    }
   ],
   "source": [
    "#confusion matrix for Decision Tree\n",
    "\n",
    "from sklearn import metrics\n",
    "from sklearn.metrics import accuracy_score\n",
    "from sklearn.metrics import confusion_matrix\n",
    "from sklearn.metrics import classification_report\n",
    "\n",
    "f = open(\"SVM.txt\", \"w\")\n",
    "\n",
    "accuracy_score = metrics.accuracy_score(test_Y, pred_Y)\n",
    "\n",
    "con_matrix = confusion_matrix(test_Y,pred_Y, labels=[0,1])\n",
    "\n",
    "report_matrix = classification_report(test_Y, pred_Y,labels=[0,1])\n",
    "\n",
    "L = [str(accuracy_score),\"\\n\\n\",str(con_matrix),'\\n\\n', str(report_matrix)] \n",
    "f.writelines(L) \n",
    "f.close()\n",
    "\n",
    "from sklearn.metrics import ConfusionMatrixDisplay\n",
    "\n",
    "fig = plt.figure()\n",
    "Disp =ConfusionMatrixDisplay(con_matrix,display_labels=['ham','spam'])\n",
    "Disp.plot()\n",
    "plt.savefig(\"SVM_confusion_matrix\")\n",
    "plt.close(fig)"
   ]
  },
  {
   "cell_type": "code",
   "execution_count": 107,
   "id": "e90aa89e",
   "metadata": {},
   "outputs": [
    {
     "name": "stdout",
     "output_type": "stream",
     "text": [
      "              precision    recall  f1-score   support\n",
      "\n",
      "           0       0.97      0.99      0.98       719\n",
      "           1       0.93      0.80      0.86       118\n",
      "\n",
      "    accuracy                           0.96       837\n",
      "   macro avg       0.95      0.89      0.92       837\n",
      "weighted avg       0.96      0.96      0.96       837\n",
      "\n"
     ]
    }
   ],
   "source": [
    "print(report_matrix)"
   ]
  },
  {
   "cell_type": "markdown",
   "id": "43550a31",
   "metadata": {},
   "source": [
    "Hence, we can observe that we are getting highest accuracy as 96% in both SVM classifier and Random Forest.\n",
    "Now, since, the precision is our main focus in spam classification and we are gettinng 0.94 precision in random forest and 0.93 precision in SVM classification; so we can choose random forest classifier as our best model."
   ]
  },
  {
   "cell_type": "code",
   "execution_count": null,
   "id": "dc2fc8ea",
   "metadata": {},
   "outputs": [],
   "source": []
  }
 ],
 "metadata": {
  "kernelspec": {
   "display_name": "Python 3 (ipykernel)",
   "language": "python",
   "name": "python3"
  },
  "language_info": {
   "codemirror_mode": {
    "name": "ipython",
    "version": 3
   },
   "file_extension": ".py",
   "mimetype": "text/x-python",
   "name": "python",
   "nbconvert_exporter": "python",
   "pygments_lexer": "ipython3",
   "version": "3.9.7"
  }
 },
 "nbformat": 4,
 "nbformat_minor": 5
}
